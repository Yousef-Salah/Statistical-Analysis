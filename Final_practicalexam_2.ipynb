{
 "cells": [
  {
   "cell_type": "markdown",
   "metadata": {
    "id": "uUXDLgOMCpYd"
   },
   "source": [
    "**Practical Exam - Monday 19/12/2022**"
   ]
  },
  {
   "cell_type": "markdown",
   "metadata": {
    "id": "ZLkY4Tr6Ctd7"
   },
   "source": [
    "**Import libraries**"
   ]
  },
  {
   "cell_type": "code",
   "execution_count": 56,
   "metadata": {
    "id": "9J2QmRLrC2EJ"
   },
   "outputs": [],
   "source": [
    "import pandas as pd\n",
    "import numpy as np"
   ]
  },
  {
   "cell_type": "markdown",
   "metadata": {
    "id": "V7TjquSUC6FM"
   },
   "source": [
    "**Creating a dataframe**"
   ]
  },
  {
   "cell_type": "code",
   "execution_count": 73,
   "metadata": {
    "id": "UjnMXqZhC8Cw"
   },
   "outputs": [],
   "source": [
    "exam_data  = {'Names': ['Rima', 'Diana', 'Mai', 'Suha', 'Haneen', 'Ahmad', 'Mustafa', 'Emad', 'Hussam', 'Samah'],\n",
    "        'Marks': [20, 30, 17.5, np.nan, 23, 25, 100, np.nan, 29, 29],\n",
    "        'Trials': [1, 3, 2, 3, 2, 3, 1, 1, 2, 1],\n",
    "        'eligible': ['Y', 'N', 'Y', 'N', 'N', 'Y', 'Y', 'N', 'N', 'Y']}\n",
    " \n",
    "df = pd.DataFrame(exam_data )"
   ]
  },
  {
   "cell_type": "code",
   "execution_count": 58,
   "metadata": {
    "colab": {
     "base_uri": "https://localhost:8080/",
     "height": 363
    },
    "id": "IXv14yrNC-oP",
    "outputId": "9eb1adde-1902-4388-94c7-7f286f41b809",
    "scrolled": true
   },
   "outputs": [
    {
     "data": {
      "text/html": [
       "<div>\n",
       "<style scoped>\n",
       "    .dataframe tbody tr th:only-of-type {\n",
       "        vertical-align: middle;\n",
       "    }\n",
       "\n",
       "    .dataframe tbody tr th {\n",
       "        vertical-align: top;\n",
       "    }\n",
       "\n",
       "    .dataframe thead th {\n",
       "        text-align: right;\n",
       "    }\n",
       "</style>\n",
       "<table border=\"1\" class=\"dataframe\">\n",
       "  <thead>\n",
       "    <tr style=\"text-align: right;\">\n",
       "      <th></th>\n",
       "      <th>Names</th>\n",
       "      <th>Marks</th>\n",
       "      <th>Trials</th>\n",
       "      <th>eligible</th>\n",
       "    </tr>\n",
       "  </thead>\n",
       "  <tbody>\n",
       "    <tr>\n",
       "      <th>0</th>\n",
       "      <td>Rima</td>\n",
       "      <td>20.0</td>\n",
       "      <td>1</td>\n",
       "      <td>Y</td>\n",
       "    </tr>\n",
       "    <tr>\n",
       "      <th>1</th>\n",
       "      <td>Diana</td>\n",
       "      <td>30.0</td>\n",
       "      <td>3</td>\n",
       "      <td>N</td>\n",
       "    </tr>\n",
       "    <tr>\n",
       "      <th>2</th>\n",
       "      <td>Mai</td>\n",
       "      <td>17.5</td>\n",
       "      <td>2</td>\n",
       "      <td>Y</td>\n",
       "    </tr>\n",
       "    <tr>\n",
       "      <th>3</th>\n",
       "      <td>Suha</td>\n",
       "      <td>NaN</td>\n",
       "      <td>3</td>\n",
       "      <td>N</td>\n",
       "    </tr>\n",
       "    <tr>\n",
       "      <th>4</th>\n",
       "      <td>Haneen</td>\n",
       "      <td>23.0</td>\n",
       "      <td>2</td>\n",
       "      <td>N</td>\n",
       "    </tr>\n",
       "    <tr>\n",
       "      <th>5</th>\n",
       "      <td>Ahmad</td>\n",
       "      <td>25.0</td>\n",
       "      <td>3</td>\n",
       "      <td>Y</td>\n",
       "    </tr>\n",
       "    <tr>\n",
       "      <th>6</th>\n",
       "      <td>Mustafa</td>\n",
       "      <td>100.0</td>\n",
       "      <td>1</td>\n",
       "      <td>Y</td>\n",
       "    </tr>\n",
       "    <tr>\n",
       "      <th>7</th>\n",
       "      <td>Emad</td>\n",
       "      <td>NaN</td>\n",
       "      <td>1</td>\n",
       "      <td>N</td>\n",
       "    </tr>\n",
       "    <tr>\n",
       "      <th>8</th>\n",
       "      <td>Hussam</td>\n",
       "      <td>29.0</td>\n",
       "      <td>2</td>\n",
       "      <td>N</td>\n",
       "    </tr>\n",
       "    <tr>\n",
       "      <th>9</th>\n",
       "      <td>Samah</td>\n",
       "      <td>29.0</td>\n",
       "      <td>1</td>\n",
       "      <td>Y</td>\n",
       "    </tr>\n",
       "  </tbody>\n",
       "</table>\n",
       "</div>"
      ],
      "text/plain": [
       "     Names  Marks  Trials eligible\n",
       "0     Rima   20.0       1        Y\n",
       "1    Diana   30.0       3        N\n",
       "2      Mai   17.5       2        Y\n",
       "3     Suha    NaN       3        N\n",
       "4   Haneen   23.0       2        N\n",
       "5    Ahmad   25.0       3        Y\n",
       "6  Mustafa  100.0       1        Y\n",
       "7     Emad    NaN       1        N\n",
       "8   Hussam   29.0       2        N\n",
       "9    Samah   29.0       1        Y"
      ]
     },
     "execution_count": 58,
     "metadata": {},
     "output_type": "execute_result"
    }
   ],
   "source": [
    "df"
   ]
  },
  {
   "cell_type": "code",
   "execution_count": null,
   "metadata": {},
   "outputs": [],
   "source": []
  },
  {
   "cell_type": "markdown",
   "metadata": {
    "id": "FISQomKEDC9F"
   },
   "source": [
    "**Given the Previous dataframe do the following**"
   ]
  },
  {
   "cell_type": "markdown",
   "metadata": {
    "id": "shungSIzDGxp"
   },
   "source": [
    "**Q1. Write pandas code to sort the DataFrame first by 'Student name' in descending order, then by 'Marks' in ascending order. Don’t save the changes to the original dataframe.**"
   ]
  },
  {
   "cell_type": "code",
   "execution_count": null,
   "metadata": {
    "id": "7EAeRZluDNyH"
   },
   "outputs": [],
   "source": []
  },
  {
   "cell_type": "code",
   "execution_count": null,
   "metadata": {
    "id": "n-gg6J4ZDOTp"
   },
   "outputs": [],
   "source": []
  },
  {
   "cell_type": "markdown",
   "metadata": {
    "id": "qSyVtSaZDO2E"
   },
   "source": [
    "**Q2. Print the first and the last sample in the dataframe. Don’t use the row index.**"
   ]
  },
  {
   "cell_type": "code",
   "execution_count": 59,
   "metadata": {
    "id": "WLLPWS1eDT5s"
   },
   "outputs": [
    {
     "data": {
      "text/html": [
       "<div>\n",
       "<style scoped>\n",
       "    .dataframe tbody tr th:only-of-type {\n",
       "        vertical-align: middle;\n",
       "    }\n",
       "\n",
       "    .dataframe tbody tr th {\n",
       "        vertical-align: top;\n",
       "    }\n",
       "\n",
       "    .dataframe thead th {\n",
       "        text-align: right;\n",
       "    }\n",
       "</style>\n",
       "<table border=\"1\" class=\"dataframe\">\n",
       "  <thead>\n",
       "    <tr style=\"text-align: right;\">\n",
       "      <th></th>\n",
       "      <th>Names</th>\n",
       "      <th>Marks</th>\n",
       "      <th>Trials</th>\n",
       "      <th>eligible</th>\n",
       "    </tr>\n",
       "  </thead>\n",
       "  <tbody>\n",
       "    <tr>\n",
       "      <th>0</th>\n",
       "      <td>Rima</td>\n",
       "      <td>20.0</td>\n",
       "      <td>1</td>\n",
       "      <td>Y</td>\n",
       "    </tr>\n",
       "  </tbody>\n",
       "</table>\n",
       "</div>"
      ],
      "text/plain": [
       "  Names  Marks  Trials eligible\n",
       "0  Rima   20.0       1        Y"
      ]
     },
     "execution_count": 59,
     "metadata": {},
     "output_type": "execute_result"
    }
   ],
   "source": [
    "df.head(1)"
   ]
  },
  {
   "cell_type": "code",
   "execution_count": 60,
   "metadata": {},
   "outputs": [
    {
     "data": {
      "text/html": [
       "<div>\n",
       "<style scoped>\n",
       "    .dataframe tbody tr th:only-of-type {\n",
       "        vertical-align: middle;\n",
       "    }\n",
       "\n",
       "    .dataframe tbody tr th {\n",
       "        vertical-align: top;\n",
       "    }\n",
       "\n",
       "    .dataframe thead th {\n",
       "        text-align: right;\n",
       "    }\n",
       "</style>\n",
       "<table border=\"1\" class=\"dataframe\">\n",
       "  <thead>\n",
       "    <tr style=\"text-align: right;\">\n",
       "      <th></th>\n",
       "      <th>Names</th>\n",
       "      <th>Marks</th>\n",
       "      <th>Trials</th>\n",
       "      <th>eligible</th>\n",
       "    </tr>\n",
       "  </thead>\n",
       "  <tbody>\n",
       "    <tr>\n",
       "      <th>9</th>\n",
       "      <td>Samah</td>\n",
       "      <td>29.0</td>\n",
       "      <td>1</td>\n",
       "      <td>Y</td>\n",
       "    </tr>\n",
       "  </tbody>\n",
       "</table>\n",
       "</div>"
      ],
      "text/plain": [
       "   Names  Marks  Trials eligible\n",
       "9  Samah   29.0       1        Y"
      ]
     },
     "execution_count": 60,
     "metadata": {},
     "output_type": "execute_result"
    }
   ],
   "source": [
    "df.tail(1)"
   ]
  },
  {
   "cell_type": "markdown",
   "metadata": {
    "id": "7zz6WU_-DUKr"
   },
   "source": [
    "**Q3. Add a new feature Age to the dataframe with the following values :**"
   ]
  },
  {
   "cell_type": "code",
   "execution_count": 61,
   "metadata": {
    "id": "wg-cDAXKDZrh"
   },
   "outputs": [],
   "source": [
    "Age=[18,18,20,20,19,17,22,23,20,15]"
   ]
  },
  {
   "cell_type": "code",
   "execution_count": 62,
   "metadata": {
    "id": "TwqlPxKYDea2"
   },
   "outputs": [
    {
     "data": {
      "text/html": [
       "<div>\n",
       "<style scoped>\n",
       "    .dataframe tbody tr th:only-of-type {\n",
       "        vertical-align: middle;\n",
       "    }\n",
       "\n",
       "    .dataframe tbody tr th {\n",
       "        vertical-align: top;\n",
       "    }\n",
       "\n",
       "    .dataframe thead th {\n",
       "        text-align: right;\n",
       "    }\n",
       "</style>\n",
       "<table border=\"1\" class=\"dataframe\">\n",
       "  <thead>\n",
       "    <tr style=\"text-align: right;\">\n",
       "      <th></th>\n",
       "      <th>Names</th>\n",
       "      <th>Marks</th>\n",
       "      <th>Trials</th>\n",
       "      <th>eligible</th>\n",
       "      <th>Age</th>\n",
       "    </tr>\n",
       "  </thead>\n",
       "  <tbody>\n",
       "    <tr>\n",
       "      <th>0</th>\n",
       "      <td>Rima</td>\n",
       "      <td>20.0</td>\n",
       "      <td>1</td>\n",
       "      <td>Y</td>\n",
       "      <td>18</td>\n",
       "    </tr>\n",
       "    <tr>\n",
       "      <th>1</th>\n",
       "      <td>Diana</td>\n",
       "      <td>30.0</td>\n",
       "      <td>3</td>\n",
       "      <td>N</td>\n",
       "      <td>18</td>\n",
       "    </tr>\n",
       "    <tr>\n",
       "      <th>2</th>\n",
       "      <td>Mai</td>\n",
       "      <td>17.5</td>\n",
       "      <td>2</td>\n",
       "      <td>Y</td>\n",
       "      <td>20</td>\n",
       "    </tr>\n",
       "    <tr>\n",
       "      <th>3</th>\n",
       "      <td>Suha</td>\n",
       "      <td>NaN</td>\n",
       "      <td>3</td>\n",
       "      <td>N</td>\n",
       "      <td>20</td>\n",
       "    </tr>\n",
       "    <tr>\n",
       "      <th>4</th>\n",
       "      <td>Haneen</td>\n",
       "      <td>23.0</td>\n",
       "      <td>2</td>\n",
       "      <td>N</td>\n",
       "      <td>19</td>\n",
       "    </tr>\n",
       "    <tr>\n",
       "      <th>5</th>\n",
       "      <td>Ahmad</td>\n",
       "      <td>25.0</td>\n",
       "      <td>3</td>\n",
       "      <td>Y</td>\n",
       "      <td>17</td>\n",
       "    </tr>\n",
       "    <tr>\n",
       "      <th>6</th>\n",
       "      <td>Mustafa</td>\n",
       "      <td>100.0</td>\n",
       "      <td>1</td>\n",
       "      <td>Y</td>\n",
       "      <td>22</td>\n",
       "    </tr>\n",
       "    <tr>\n",
       "      <th>7</th>\n",
       "      <td>Emad</td>\n",
       "      <td>NaN</td>\n",
       "      <td>1</td>\n",
       "      <td>N</td>\n",
       "      <td>23</td>\n",
       "    </tr>\n",
       "    <tr>\n",
       "      <th>8</th>\n",
       "      <td>Hussam</td>\n",
       "      <td>29.0</td>\n",
       "      <td>2</td>\n",
       "      <td>N</td>\n",
       "      <td>20</td>\n",
       "    </tr>\n",
       "    <tr>\n",
       "      <th>9</th>\n",
       "      <td>Samah</td>\n",
       "      <td>29.0</td>\n",
       "      <td>1</td>\n",
       "      <td>Y</td>\n",
       "      <td>15</td>\n",
       "    </tr>\n",
       "  </tbody>\n",
       "</table>\n",
       "</div>"
      ],
      "text/plain": [
       "     Names  Marks  Trials eligible  Age\n",
       "0     Rima   20.0       1        Y   18\n",
       "1    Diana   30.0       3        N   18\n",
       "2      Mai   17.5       2        Y   20\n",
       "3     Suha    NaN       3        N   20\n",
       "4   Haneen   23.0       2        N   19\n",
       "5    Ahmad   25.0       3        Y   17\n",
       "6  Mustafa  100.0       1        Y   22\n",
       "7     Emad    NaN       1        N   23\n",
       "8   Hussam   29.0       2        N   20\n",
       "9    Samah   29.0       1        Y   15"
      ]
     },
     "execution_count": 62,
     "metadata": {},
     "output_type": "execute_result"
    }
   ],
   "source": [
    "df['Age'] = Age\n",
    "df"
   ]
  },
  {
   "cell_type": "markdown",
   "metadata": {
    "id": "N77esOmiDfgK"
   },
   "source": [
    "**Q4.Write one line of code that will remove the sample with a noisy mark and save the new changes to the original dataframe.**"
   ]
  },
  {
   "cell_type": "code",
   "execution_count": 101,
   "metadata": {
    "id": "Zp7zr71ADjbU"
   },
   "outputs": [
    {
     "ename": "SyntaxError",
     "evalue": "invalid syntax (Temp/ipykernel_12352/838570442.py, line 4)",
     "output_type": "error",
     "traceback": [
      "\u001b[1;36m  File \u001b[1;32m\"C:\\Users\\Youski\\AppData\\Local\\Temp/ipykernel_12352/838570442.py\"\u001b[1;36m, line \u001b[1;32m4\u001b[0m\n\u001b[1;33m    (df[df['Marks'] > 100]) || (df[df['Marks'] < 0])\u001b[0m\n\u001b[1;37m                             ^\u001b[0m\n\u001b[1;31mSyntaxError\u001b[0m\u001b[1;31m:\u001b[0m invalid syntax\n"
     ]
    }
   ],
   "source": [
    "# df.drop(df[(df['Marks'] > 100) or (df['Marks'] < 0)])\n",
    "# ]\n",
    "\n",
    "(df[df['Marks'] > 100]) || (df[df['Marks'] < 0])"
   ]
  },
  {
   "cell_type": "markdown",
   "metadata": {
    "id": "lVFoQM5SDknW"
   },
   "source": [
    "**Q5 . Reset index for the previous dataframe. Make sure to update the original one.**"
   ]
  },
  {
   "cell_type": "code",
   "execution_count": null,
   "metadata": {
    "id": "_lC-2dtUDnAp"
   },
   "outputs": [],
   "source": []
  },
  {
   "cell_type": "markdown",
   "metadata": {
    "id": "6N_q7s0UDnlU"
   },
   "source": [
    "**Q6. Get the minimum mark for every group of students based on their eligibility.**"
   ]
  },
  {
   "cell_type": "code",
   "execution_count": 63,
   "metadata": {
    "id": "JKXooDB6Dp_s"
   },
   "outputs": [
    {
     "data": {
      "text/html": [
       "<div>\n",
       "<style scoped>\n",
       "    .dataframe tbody tr th:only-of-type {\n",
       "        vertical-align: middle;\n",
       "    }\n",
       "\n",
       "    .dataframe tbody tr th {\n",
       "        vertical-align: top;\n",
       "    }\n",
       "\n",
       "    .dataframe thead th {\n",
       "        text-align: right;\n",
       "    }\n",
       "</style>\n",
       "<table border=\"1\" class=\"dataframe\">\n",
       "  <thead>\n",
       "    <tr style=\"text-align: right;\">\n",
       "      <th></th>\n",
       "      <th>Names</th>\n",
       "      <th>Marks</th>\n",
       "      <th>Trials</th>\n",
       "      <th>Age</th>\n",
       "    </tr>\n",
       "    <tr>\n",
       "      <th>eligible</th>\n",
       "      <th></th>\n",
       "      <th></th>\n",
       "      <th></th>\n",
       "      <th></th>\n",
       "    </tr>\n",
       "  </thead>\n",
       "  <tbody>\n",
       "    <tr>\n",
       "      <th>N</th>\n",
       "      <td>Diana</td>\n",
       "      <td>23.0</td>\n",
       "      <td>1</td>\n",
       "      <td>18</td>\n",
       "    </tr>\n",
       "    <tr>\n",
       "      <th>Y</th>\n",
       "      <td>Ahmad</td>\n",
       "      <td>17.5</td>\n",
       "      <td>1</td>\n",
       "      <td>15</td>\n",
       "    </tr>\n",
       "  </tbody>\n",
       "</table>\n",
       "</div>"
      ],
      "text/plain": [
       "          Names  Marks  Trials  Age\n",
       "eligible                           \n",
       "N         Diana   23.0       1   18\n",
       "Y         Ahmad   17.5       1   15"
      ]
     },
     "execution_count": 63,
     "metadata": {},
     "output_type": "execute_result"
    }
   ],
   "source": [
    "df.groupby(['eligible']).min()"
   ]
  },
  {
   "cell_type": "code",
   "execution_count": null,
   "metadata": {
    "id": "i8tlZD1BDrOP"
   },
   "outputs": [],
   "source": []
  },
  {
   "cell_type": "markdown",
   "metadata": {
    "id": "rGf8T81GDrYz"
   },
   "source": [
    "**Q7. Write a Pandas code to select the samples where the student age is less than 20. Save the result in another dataframe called Teenagers.**"
   ]
  },
  {
   "cell_type": "code",
   "execution_count": 64,
   "metadata": {
    "id": "Zwy2KcPYDtfq"
   },
   "outputs": [
    {
     "data": {
      "text/html": [
       "<div>\n",
       "<style scoped>\n",
       "    .dataframe tbody tr th:only-of-type {\n",
       "        vertical-align: middle;\n",
       "    }\n",
       "\n",
       "    .dataframe tbody tr th {\n",
       "        vertical-align: top;\n",
       "    }\n",
       "\n",
       "    .dataframe thead th {\n",
       "        text-align: right;\n",
       "    }\n",
       "</style>\n",
       "<table border=\"1\" class=\"dataframe\">\n",
       "  <thead>\n",
       "    <tr style=\"text-align: right;\">\n",
       "      <th></th>\n",
       "      <th>Names</th>\n",
       "      <th>Marks</th>\n",
       "      <th>Trials</th>\n",
       "      <th>eligible</th>\n",
       "      <th>Age</th>\n",
       "    </tr>\n",
       "  </thead>\n",
       "  <tbody>\n",
       "    <tr>\n",
       "      <th>0</th>\n",
       "      <td>Rima</td>\n",
       "      <td>20.0</td>\n",
       "      <td>1</td>\n",
       "      <td>Y</td>\n",
       "      <td>18</td>\n",
       "    </tr>\n",
       "    <tr>\n",
       "      <th>1</th>\n",
       "      <td>Diana</td>\n",
       "      <td>30.0</td>\n",
       "      <td>3</td>\n",
       "      <td>N</td>\n",
       "      <td>18</td>\n",
       "    </tr>\n",
       "    <tr>\n",
       "      <th>4</th>\n",
       "      <td>Haneen</td>\n",
       "      <td>23.0</td>\n",
       "      <td>2</td>\n",
       "      <td>N</td>\n",
       "      <td>19</td>\n",
       "    </tr>\n",
       "    <tr>\n",
       "      <th>5</th>\n",
       "      <td>Ahmad</td>\n",
       "      <td>25.0</td>\n",
       "      <td>3</td>\n",
       "      <td>Y</td>\n",
       "      <td>17</td>\n",
       "    </tr>\n",
       "    <tr>\n",
       "      <th>9</th>\n",
       "      <td>Samah</td>\n",
       "      <td>29.0</td>\n",
       "      <td>1</td>\n",
       "      <td>Y</td>\n",
       "      <td>15</td>\n",
       "    </tr>\n",
       "  </tbody>\n",
       "</table>\n",
       "</div>"
      ],
      "text/plain": [
       "    Names  Marks  Trials eligible  Age\n",
       "0    Rima   20.0       1        Y   18\n",
       "1   Diana   30.0       3        N   18\n",
       "4  Haneen   23.0       2        N   19\n",
       "5   Ahmad   25.0       3        Y   17\n",
       "9   Samah   29.0       1        Y   15"
      ]
     },
     "execution_count": 64,
     "metadata": {},
     "output_type": "execute_result"
    }
   ],
   "source": [
    "teenagers = df[df['Age'] < 20]\n",
    "teenagers"
   ]
  },
  {
   "cell_type": "markdown",
   "metadata": {
    "id": "mne0Un4ZDwXG"
   },
   "source": [
    "**Q8. Write one line of code to select the samples where the Mark is missing.**"
   ]
  },
  {
   "cell_type": "code",
   "execution_count": 65,
   "metadata": {
    "id": "vWvd_e5XDxc_"
   },
   "outputs": [
    {
     "data": {
      "text/html": [
       "<div>\n",
       "<style scoped>\n",
       "    .dataframe tbody tr th:only-of-type {\n",
       "        vertical-align: middle;\n",
       "    }\n",
       "\n",
       "    .dataframe tbody tr th {\n",
       "        vertical-align: top;\n",
       "    }\n",
       "\n",
       "    .dataframe thead th {\n",
       "        text-align: right;\n",
       "    }\n",
       "</style>\n",
       "<table border=\"1\" class=\"dataframe\">\n",
       "  <thead>\n",
       "    <tr style=\"text-align: right;\">\n",
       "      <th></th>\n",
       "      <th>Names</th>\n",
       "      <th>Marks</th>\n",
       "      <th>Trials</th>\n",
       "      <th>eligible</th>\n",
       "      <th>Age</th>\n",
       "    </tr>\n",
       "  </thead>\n",
       "  <tbody>\n",
       "    <tr>\n",
       "      <th>3</th>\n",
       "      <td>Suha</td>\n",
       "      <td>NaN</td>\n",
       "      <td>3</td>\n",
       "      <td>N</td>\n",
       "      <td>20</td>\n",
       "    </tr>\n",
       "    <tr>\n",
       "      <th>7</th>\n",
       "      <td>Emad</td>\n",
       "      <td>NaN</td>\n",
       "      <td>1</td>\n",
       "      <td>N</td>\n",
       "      <td>23</td>\n",
       "    </tr>\n",
       "  </tbody>\n",
       "</table>\n",
       "</div>"
      ],
      "text/plain": [
       "  Names  Marks  Trials eligible  Age\n",
       "3  Suha    NaN       3        N   20\n",
       "7  Emad    NaN       1        N   23"
      ]
     },
     "execution_count": 65,
     "metadata": {},
     "output_type": "execute_result"
    }
   ],
   "source": [
    "df[df['Marks'].isna()]"
   ]
  },
  {
   "cell_type": "markdown",
   "metadata": {
    "id": "j7BIOZmKDzlv"
   },
   "source": [
    "**Q9 . Write one line of code to replace the 'eligible' column containing the values 'Y' and 'N' with True and False.**"
   ]
  },
  {
   "cell_type": "code",
   "execution_count": 75,
   "metadata": {
    "id": "U8XdcyGWD0qa"
   },
   "outputs": [
    {
     "ename": "SyntaxError",
     "evalue": "invalid syntax (Temp/ipykernel_12352/386239293.py, line 1)",
     "output_type": "error",
     "traceback": [
      "\u001b[1;36m  File \u001b[1;32m\"C:\\Users\\Youski\\AppData\\Local\\Temp/ipykernel_12352/386239293.py\"\u001b[1;36m, line \u001b[1;32m1\u001b[0m\n\u001b[1;33m    df['eligible'] = df[df['eligible'] 'True' if df['eligible'] == 'Y' else 'False']\u001b[0m\n\u001b[1;37m                                       ^\u001b[0m\n\u001b[1;31mSyntaxError\u001b[0m\u001b[1;31m:\u001b[0m invalid syntax\n"
     ]
    }
   ],
   "source": [
    "df['eligible'] = df[df['eligible'] 'True' if df['eligible'] == 'Y' else 'False']\n"
   ]
  },
  {
   "cell_type": "markdown",
   "metadata": {
    "id": "FTpJjcIsD3K4"
   },
   "source": [
    "**Q10. Write one line of code to replace the missing values in Marks with the feature mean.**"
   ]
  },
  {
   "cell_type": "code",
   "execution_count": 96,
   "metadata": {
    "id": "p1pfAlhND36P"
   },
   "outputs": [
    {
     "name": "stdout",
     "output_type": "stream",
     "text": [
      "34.1875\n"
     ]
    },
    {
     "data": {
      "text/plain": [
       "0     20.0000\n",
       "1     30.0000\n",
       "2     17.5000\n",
       "3     34.1875\n",
       "4     23.0000\n",
       "5     25.0000\n",
       "6    100.0000\n",
       "7     34.1875\n",
       "8     29.0000\n",
       "9     29.0000\n",
       "Name: Marks, dtype: float64"
      ]
     },
     "execution_count": 96,
     "metadata": {},
     "output_type": "execute_result"
    }
   ],
   "source": [
    "mean = df['Marks'].mean(skipna=True)\n",
    "print(mean)\n",
    "\n",
    "df['Marks'].fillna(mean, inplace=True)\n",
    "df['Marks']\n"
   ]
  },
  {
   "cell_type": "markdown",
   "metadata": {
    "id": "QrLytOtUD692"
   },
   "source": [
    "**Q11. Plot a histogram for student age**"
   ]
  },
  {
   "cell_type": "code",
   "execution_count": 35,
   "metadata": {
    "id": "PCtBAfuHD8M_"
   },
   "outputs": [
    {
     "data": {
      "text/plain": [
       "<AxesSubplot:>"
      ]
     },
     "execution_count": 35,
     "metadata": {},
     "output_type": "execute_result"
    },
    {
     "data": {
      "image/png": "[encoded data removed]",
      "text/plain": [
       "<Figure size 432x288 with 1 Axes>"
      ]
     },
     "metadata": {
      "needs_background": "light"
     },
     "output_type": "display_data"
    }
   ],
   "source": [
    "df['Age'].hist()"
   ]
  },
  {
   "cell_type": "markdown",
   "metadata": {
    "id": "zKuoJjAND8b7"
   },
   "source": [
    "**Q12. Given the following function**"
   ]
  },
  {
   "cell_type": "code",
   "execution_count": 76,
   "metadata": {
    "id": "Bot1rrf0EAH_"
   },
   "outputs": [],
   "source": [
    "def update_mark(mark): return mark if mark > 25 else mark + (0.1 * mark)"
   ]
  },
  {
   "cell_type": "markdown",
   "metadata": {
    "id": "YkUQBPGjEJTY"
   },
   "source": [
    "**Write a python code to update the students Mark using apply and update_mark**"
   ]
  },
  {
   "cell_type": "code",
   "execution_count": 79,
   "metadata": {
    "id": "NFQ10sV0ENW3"
   },
   "outputs": [
    {
     "data": {
      "text/plain": [
       "0     22.0000\n",
       "1     30.0000\n",
       "2     19.2500\n",
       "3     34.1875\n",
       "4     25.3000\n",
       "5     27.5000\n",
       "6    100.0000\n",
       "7     34.1875\n",
       "8     29.0000\n",
       "9     29.0000\n",
       "Name: Marks, dtype: float64"
      ]
     },
     "execution_count": 79,
     "metadata": {},
     "output_type": "execute_result"
    }
   ],
   "source": [
    "df['Marks'].apply(update_mark)\n"
   ]
  },
  {
   "cell_type": "code",
   "execution_count": null,
   "metadata": {
    "id": "PKzJWvZ0ENm2"
   },
   "outputs": [],
   "source": []
  },
  {
   "cell_type": "markdown",
   "metadata": {
    "id": "Mlu__ZmVEOGx"
   },
   "source": [
    "**Given the following numpy array :**"
   ]
  },
  {
   "cell_type": "code",
   "execution_count": 41,
   "metadata": {
    "id": "min3OU9uERFF"
   },
   "outputs": [],
   "source": [
    "import numpy as np\n",
    "a=np.array([1,2,3,4,5,6,7])"
   ]
  },
  {
   "cell_type": "markdown",
   "metadata": {
    "id": "c-Q0LOW0EVeF"
   },
   "source": [
    "**Q13 . Write one line of code that will produce the following output [5 6]**"
   ]
  },
  {
   "cell_type": "code",
   "execution_count": 42,
   "metadata": {
    "id": "QxmE6_l_EYH2"
   },
   "outputs": [
    {
     "data": {
      "text/plain": [
       "array([5, 6])"
      ]
     },
     "execution_count": 42,
     "metadata": {},
     "output_type": "execute_result"
    }
   ],
   "source": [
    "np.array([5,6])"
   ]
  },
  {
   "cell_type": "markdown",
   "metadata": {
    "id": "aFJxO3SrEYo8"
   },
   "source": [
    "**Q14: Write one line of code that will produce the following output [2, 3, 4, 5]**"
   ]
  },
  {
   "cell_type": "code",
   "execution_count": 82,
   "metadata": {
    "id": "Un7-zLp_EcQE"
   },
   "outputs": [
    {
     "data": {
      "text/plain": [
       "array([2, 3, 4, 5])"
      ]
     },
     "execution_count": 82,
     "metadata": {},
     "output_type": "execute_result"
    }
   ],
   "source": [
    "np.arange(2,6)"
   ]
  },
  {
   "cell_type": "markdown",
   "metadata": {
    "id": "364S2TTWEdnE"
   },
   "source": [
    "**Q15. Write one line of code that will produce the following output [1 3 5 7]**"
   ]
  },
  {
   "cell_type": "code",
   "execution_count": 83,
   "metadata": {
    "id": "IwGU5vrrEfsC"
   },
   "outputs": [
    {
     "data": {
      "text/plain": [
       "array([1, 3, 5, 7])"
      ]
     },
     "execution_count": 83,
     "metadata": {},
     "output_type": "execute_result"
    }
   ],
   "source": [
    "np.arange(1,8, 2)"
   ]
  },
  {
   "cell_type": "markdown",
   "metadata": {
    "id": "_EknTRWhEgOv"
   },
   "source": [
    "**Given the following code :**"
   ]
  },
  {
   "cell_type": "code",
   "execution_count": 45,
   "metadata": {
    "id": "F3cjlfYPEkEJ"
   },
   "outputs": [],
   "source": [
    "b=np.array([[15,25,35,45,55],[65,75,85,95,105]])"
   ]
  },
  {
   "cell_type": "markdown",
   "metadata": {
    "id": "Go5cjEtKEoU9"
   },
   "source": [
    "**Q16 Write one line of code that will produce the following output : [[25 35 45]]**"
   ]
  },
  {
   "cell_type": "code",
   "execution_count": 49,
   "metadata": {
    "id": "92s1AWYpEtjA"
   },
   "outputs": [
    {
     "data": {
      "text/plain": [
       "array([25, 35, 45])"
      ]
     },
     "execution_count": 49,
     "metadata": {},
     "output_type": "execute_result"
    }
   ],
   "source": [
    "b[0,1:4]"
   ]
  },
  {
   "cell_type": "code",
   "execution_count": null,
   "metadata": {
    "id": "oVh9i5vxEt2W"
   },
   "outputs": [],
   "source": []
  },
  {
   "cell_type": "markdown",
   "metadata": {
    "id": "jdFhObROEuNT"
   },
   "source": [
    "**Given the following code:**"
   ]
  },
  {
   "cell_type": "code",
   "execution_count": 50,
   "metadata": {
    "id": "N3vTvic0EzJq"
   },
   "outputs": [],
   "source": [
    "c=np.array([[1,2],[3,4],[5,6]])"
   ]
  },
  {
   "cell_type": "markdown",
   "metadata": {
    "id": "aT2mZG_OE3LW"
   },
   "source": [
    "**Q17. Write one line of code that will print c shape.**"
   ]
  },
  {
   "cell_type": "code",
   "execution_count": 52,
   "metadata": {
    "id": "wGpXyarbE7Fa"
   },
   "outputs": [
    {
     "data": {
      "text/plain": [
       "(3, 2)"
      ]
     },
     "execution_count": 52,
     "metadata": {},
     "output_type": "execute_result"
    }
   ],
   "source": [
    "c.shape"
   ]
  },
  {
   "cell_type": "markdown",
   "metadata": {
    "id": "FFVmkBAMN8tq"
   },
   "source": [
    "**Q18 . Print the first row is c**"
   ]
  },
  {
   "cell_type": "code",
   "execution_count": 53,
   "metadata": {
    "id": "oHfglbBWN9lI"
   },
   "outputs": [
    {
     "data": {
      "text/plain": [
       "array([1, 2])"
      ]
     },
     "execution_count": 53,
     "metadata": {},
     "output_type": "execute_result"
    }
   ],
   "source": [
    "c[0]"
   ]
  },
  {
   "cell_type": "markdown",
   "metadata": {
    "id": "0jPh9j4HE7b8"
   },
   "source": [
    "**Q19. Print the second column in C**"
   ]
  },
  {
   "cell_type": "code",
   "execution_count": 54,
   "metadata": {
    "id": "l-jOzLIbE94m"
   },
   "outputs": [
    {
     "data": {
      "text/plain": [
       "array([2, 4, 6])"
      ]
     },
     "execution_count": 54,
     "metadata": {},
     "output_type": "execute_result"
    }
   ],
   "source": [
    "c[:, 1]"
   ]
  },
  {
   "cell_type": "markdown",
   "metadata": {
    "id": "3WH9W1udE-E8"
   },
   "source": [
    "**Q20. Print your name =)**"
   ]
  },
  {
   "cell_type": "code",
   "execution_count": 55,
   "metadata": {
    "id": "OqfTy-ddFAHE"
   },
   "outputs": [
    {
     "name": "stdout",
     "output_type": "stream",
     "text": [
      "Yousef Salah khodroj\n"
     ]
    }
   ],
   "source": [
    "print(\"Yousef Salah khodroj\")"
   ]
  },
  {
   "cell_type": "code",
   "execution_count": null,
   "metadata": {},
   "outputs": [],
   "source": []
  }
 ],
 "metadata": {
  "colab": {
   "provenance": []
  },
  "kernelspec": {
   "display_name": "Python 3 (ipykernel)",
   "language": "python",
   "name": "python3"
  },
  "language_info": {
   "codemirror_mode": {
    "name": "ipython",
    "version": 3
   },
   "file_extension": ".py",
   "mimetype": "text/x-python",
   "name": "python",
   "nbconvert_exporter": "python",
   "pygments_lexer": "ipython3",
   "version": "3.9.7"
  }
 },
 "nbformat": 4,
 "nbformat_minor": 1
}
